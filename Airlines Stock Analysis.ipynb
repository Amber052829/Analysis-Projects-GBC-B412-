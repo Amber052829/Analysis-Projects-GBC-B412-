{
 "cells": [
  {
   "cell_type": "code",
   "execution_count": 1,
   "metadata": {},
   "outputs": [
    {
     "name": "stdout",
     "output_type": "stream",
     "text": [
      "Requirement already satisfied: yfinance in c:\\users\\dmell\\anaconda3\\lib\\site-packages (0.1.63)\n",
      "Requirement already satisfied: lxml>=4.5.1 in c:\\users\\dmell\\anaconda3\\lib\\site-packages (from yfinance) (4.6.1)\n",
      "Requirement already satisfied: requests>=2.20 in c:\\users\\dmell\\anaconda3\\lib\\site-packages (from yfinance) (2.24.0)\n",
      "Requirement already satisfied: pandas>=0.24 in c:\\users\\dmell\\anaconda3\\lib\\site-packages (from yfinance) (1.2.4)\n"
     ]
    },
    {
     "name": "stderr",
     "output_type": "stream",
     "text": [
      "WARNING: You are using pip version 21.0.1; however, version 21.2.2 is available.\n",
      "You should consider upgrading via the 'c:\\users\\dmell\\anaconda3\\python.exe -m pip install --upgrade pip' command.\n"
     ]
    },
    {
     "name": "stdout",
     "output_type": "stream",
     "text": [
      "Requirement already satisfied: multitasking>=0.0.7 in c:\\users\\dmell\\anaconda3\\lib\\site-packages (from yfinance) (0.0.9)\n",
      "Requirement already satisfied: numpy>=1.15 in c:\\users\\dmell\\anaconda3\\lib\\site-packages (from yfinance) (1.20.2)\n",
      "Requirement already satisfied: python-dateutil>=2.7.3 in c:\\users\\dmell\\anaconda3\\lib\\site-packages (from pandas>=0.24->yfinance) (2.8.1)\n",
      "Requirement already satisfied: pytz>=2017.3 in c:\\users\\dmell\\anaconda3\\lib\\site-packages (from pandas>=0.24->yfinance) (2020.1)\n",
      "Requirement already satisfied: six>=1.5 in c:\\users\\dmell\\anaconda3\\lib\\site-packages (from python-dateutil>=2.7.3->pandas>=0.24->yfinance) (1.15.0)\n",
      "Requirement already satisfied: idna<3,>=2.5 in c:\\users\\dmell\\anaconda3\\lib\\site-packages (from requests>=2.20->yfinance) (2.10)\n",
      "Requirement already satisfied: urllib3!=1.25.0,!=1.25.1,<1.26,>=1.21.1 in c:\\users\\dmell\\anaconda3\\lib\\site-packages (from requests>=2.20->yfinance) (1.25.11)\n",
      "Requirement already satisfied: chardet<4,>=3.0.2 in c:\\users\\dmell\\anaconda3\\lib\\site-packages (from requests>=2.20->yfinance) (3.0.4)\n",
      "Requirement already satisfied: certifi>=2017.4.17 in c:\\users\\dmell\\anaconda3\\lib\\site-packages (from requests>=2.20->yfinance) (2020.6.20)\n"
     ]
    }
   ],
   "source": [
    "!pip install yfinance"
   ]
  },
  {
   "cell_type": "code",
   "execution_count": 2,
   "metadata": {},
   "outputs": [
    {
     "name": "stdout",
     "output_type": "stream",
     "text": [
      "Requirement already satisfied: pandas_datareader in c:\\users\\dmell\\anaconda3\\lib\\site-packages (0.10.0)\n",
      "Requirement already satisfied: pandas>=0.23 in c:\\users\\dmell\\anaconda3\\lib\\site-packages (from pandas_datareader) (1.2.4)\n",
      "Requirement already satisfied: requests>=2.19.0 in c:\\users\\dmell\\anaconda3\\lib\\site-packages (from pandas_datareader) (2.24.0)\n",
      "Requirement already satisfied: lxml in c:\\users\\dmell\\anaconda3\\lib\\site-packages (from pandas_datareader) (4.6.1)\n",
      "Requirement already satisfied: python-dateutil>=2.7.3 in c:\\users\\dmell\\anaconda3\\lib\\site-packages (from pandas>=0.23->pandas_datareader) (2.8.1)\n",
      "Requirement already satisfied: numpy>=1.16.5 in c:\\users\\dmell\\anaconda3\\lib\\site-packages (from pandas>=0.23->pandas_datareader) (1.20.2)\n",
      "Requirement already satisfied: pytz>=2017.3 in c:\\users\\dmell\\anaconda3\\lib\\site-packages (from pandas>=0.23->pandas_datareader) (2020.1)\n",
      "Requirement already satisfied: six>=1.5 in c:\\users\\dmell\\anaconda3\\lib\\site-packages (from python-dateutil>=2.7.3->pandas>=0.23->pandas_datareader) (1.15.0)\n",
      "Requirement already satisfied: chardet<4,>=3.0.2 in c:\\users\\dmell\\anaconda3\\lib\\site-packages (from requests>=2.19.0->pandas_datareader) (3.0.4)\n",
      "Requirement already satisfied: certifi>=2017.4.17 in c:\\users\\dmell\\anaconda3\\lib\\site-packages (from requests>=2.19.0->pandas_datareader) (2020.6.20)\n",
      "Requirement already satisfied: idna<3,>=2.5 in c:\\users\\dmell\\anaconda3\\lib\\site-packages (from requests>=2.19.0->pandas_datareader) (2.10)\n",
      "Requirement already satisfied: urllib3!=1.25.0,!=1.25.1,<1.26,>=1.21.1 in c:\\users\\dmell\\anaconda3\\lib\\site-packages (from requests>=2.19.0->pandas_datareader) (1.25.11)\n"
     ]
    },
    {
     "name": "stderr",
     "output_type": "stream",
     "text": [
      "WARNING: You are using pip version 21.0.1; however, version 21.2.2 is available.\n",
      "You should consider upgrading via the 'c:\\users\\dmell\\anaconda3\\python.exe -m pip install --upgrade pip' command.\n"
     ]
    }
   ],
   "source": [
    "!pip install pandas_datareader"
   ]
  },
  {
   "cell_type": "code",
   "execution_count": 3,
   "metadata": {},
   "outputs": [],
   "source": [
    "from pandas_datareader import data, wb\n",
    "import pandas as pd\n",
    "import numpy as np\n",
    "import yfinance as yf\n",
    "import datetime\n",
    "%matplotlib inline"
   ]
  },
  {
   "cell_type": "code",
   "execution_count": 4,
   "metadata": {},
   "outputs": [],
   "source": [
    "# Create start and end variables\n",
    "start= datetime.datetime(2020,1,1)\n",
    "end = datetime.datetime(2020,12,31)"
   ]
  },
  {
   "cell_type": "markdown",
   "metadata": {},
   "source": [
    "# Gather Stock Information"
   ]
  },
  {
   "cell_type": "code",
   "execution_count": 5,
   "metadata": {},
   "outputs": [],
   "source": [
    "#STOCK INFORMATION ON SELECT FIRMS IN THE CONSUMER CYCLICAL INDUSTRY BASED ON MARKET CAP\n",
    "\n",
    "AAL = data.DataReader('AAL','yahoo',start,end)\n",
    "\n",
    "DAL = data.DataReader('DAL','yahoo', start,end)\n",
    "\n",
    "UAL = data.DataReader('UAL', 'yahoo', start,end)\n",
    "\n",
    "LUV = data.DataReader('LUV', 'yahoo', start,end)\n",
    "\n",
    "SAVE = data.DataReader('SAVE', 'yahoo', start,end)"
   ]
  },
  {
   "cell_type": "code",
   "execution_count": 6,
   "metadata": {},
   "outputs": [],
   "source": [
    "tickers = ['AAL','LUV','DAL','UAL','SAVE'] "
   ]
  },
  {
   "cell_type": "code",
   "execution_count": 7,
   "metadata": {},
   "outputs": [],
   "source": [
    "consumer_stock = pd.concat([AAL,LUV,DAL,UAL,SAVE], axis = 1, keys = tickers)"
   ]
  },
  {
   "cell_type": "code",
   "execution_count": 8,
   "metadata": {},
   "outputs": [],
   "source": [
    "consumer_stock.columns.names = ['Consumer Ticker','Stock Info']"
   ]
  },
  {
   "cell_type": "code",
   "execution_count": 9,
   "metadata": {
    "scrolled": false
   },
   "outputs": [
    {
     "data": {
      "text/html": [
       "<div>\n",
       "<style scoped>\n",
       "    .dataframe tbody tr th:only-of-type {\n",
       "        vertical-align: middle;\n",
       "    }\n",
       "\n",
       "    .dataframe tbody tr th {\n",
       "        vertical-align: top;\n",
       "    }\n",
       "\n",
       "    .dataframe thead tr th {\n",
       "        text-align: left;\n",
       "    }\n",
       "\n",
       "    .dataframe thead tr:last-of-type th {\n",
       "        text-align: right;\n",
       "    }\n",
       "</style>\n",
       "<table border=\"1\" class=\"dataframe\">\n",
       "  <thead>\n",
       "    <tr>\n",
       "      <th>Consumer Ticker</th>\n",
       "      <th colspan=\"6\" halign=\"left\">AAL</th>\n",
       "      <th colspan=\"4\" halign=\"left\">LUV</th>\n",
       "      <th>...</th>\n",
       "      <th colspan=\"4\" halign=\"left\">UAL</th>\n",
       "      <th colspan=\"6\" halign=\"left\">SAVE</th>\n",
       "    </tr>\n",
       "    <tr>\n",
       "      <th>Stock Info</th>\n",
       "      <th>High</th>\n",
       "      <th>Low</th>\n",
       "      <th>Open</th>\n",
       "      <th>Close</th>\n",
       "      <th>Volume</th>\n",
       "      <th>Adj Close</th>\n",
       "      <th>High</th>\n",
       "      <th>Low</th>\n",
       "      <th>Open</th>\n",
       "      <th>Close</th>\n",
       "      <th>...</th>\n",
       "      <th>Open</th>\n",
       "      <th>Close</th>\n",
       "      <th>Volume</th>\n",
       "      <th>Adj Close</th>\n",
       "      <th>High</th>\n",
       "      <th>Low</th>\n",
       "      <th>Open</th>\n",
       "      <th>Close</th>\n",
       "      <th>Volume</th>\n",
       "      <th>Adj Close</th>\n",
       "    </tr>\n",
       "    <tr>\n",
       "      <th>Date</th>\n",
       "      <th></th>\n",
       "      <th></th>\n",
       "      <th></th>\n",
       "      <th></th>\n",
       "      <th></th>\n",
       "      <th></th>\n",
       "      <th></th>\n",
       "      <th></th>\n",
       "      <th></th>\n",
       "      <th></th>\n",
       "      <th></th>\n",
       "      <th></th>\n",
       "      <th></th>\n",
       "      <th></th>\n",
       "      <th></th>\n",
       "      <th></th>\n",
       "      <th></th>\n",
       "      <th></th>\n",
       "      <th></th>\n",
       "      <th></th>\n",
       "      <th></th>\n",
       "    </tr>\n",
       "  </thead>\n",
       "  <tbody>\n",
       "    <tr>\n",
       "      <th>2020-01-02</th>\n",
       "      <td>29.299999</td>\n",
       "      <td>28.650000</td>\n",
       "      <td>28.980000</td>\n",
       "      <td>29.090000</td>\n",
       "      <td>6451100.0</td>\n",
       "      <td>28.982893</td>\n",
       "      <td>54.869999</td>\n",
       "      <td>54.290001</td>\n",
       "      <td>54.380001</td>\n",
       "      <td>54.840000</td>\n",
       "      <td>...</td>\n",
       "      <td>89.570000</td>\n",
       "      <td>89.739998</td>\n",
       "      <td>2769800</td>\n",
       "      <td>89.739998</td>\n",
       "      <td>40.930000</td>\n",
       "      <td>40.099998</td>\n",
       "      <td>40.700001</td>\n",
       "      <td>40.650002</td>\n",
       "      <td>1027400</td>\n",
       "      <td>40.650002</td>\n",
       "    </tr>\n",
       "    <tr>\n",
       "      <th>2020-01-03</th>\n",
       "      <td>28.290001</td>\n",
       "      <td>27.340000</td>\n",
       "      <td>28.270000</td>\n",
       "      <td>27.650000</td>\n",
       "      <td>14008900.0</td>\n",
       "      <td>27.548195</td>\n",
       "      <td>54.419998</td>\n",
       "      <td>53.040001</td>\n",
       "      <td>53.599998</td>\n",
       "      <td>54.349998</td>\n",
       "      <td>...</td>\n",
       "      <td>86.800003</td>\n",
       "      <td>87.900002</td>\n",
       "      <td>3562900</td>\n",
       "      <td>87.900002</td>\n",
       "      <td>39.930000</td>\n",
       "      <td>38.330002</td>\n",
       "      <td>39.660000</td>\n",
       "      <td>39.820000</td>\n",
       "      <td>1327700</td>\n",
       "      <td>39.820000</td>\n",
       "    </tr>\n",
       "    <tr>\n",
       "      <th>2020-01-06</th>\n",
       "      <td>27.490000</td>\n",
       "      <td>27.080000</td>\n",
       "      <td>27.190001</td>\n",
       "      <td>27.320000</td>\n",
       "      <td>6105800.0</td>\n",
       "      <td>27.219410</td>\n",
       "      <td>54.560001</td>\n",
       "      <td>53.480000</td>\n",
       "      <td>53.689999</td>\n",
       "      <td>54.130001</td>\n",
       "      <td>...</td>\n",
       "      <td>86.720001</td>\n",
       "      <td>87.699997</td>\n",
       "      <td>2652700</td>\n",
       "      <td>87.699997</td>\n",
       "      <td>40.540001</td>\n",
       "      <td>39.049999</td>\n",
       "      <td>39.299999</td>\n",
       "      <td>40.389999</td>\n",
       "      <td>1003500</td>\n",
       "      <td>40.389999</td>\n",
       "    </tr>\n",
       "    <tr>\n",
       "      <th>2020-01-07</th>\n",
       "      <td>27.680000</td>\n",
       "      <td>27.059999</td>\n",
       "      <td>27.559999</td>\n",
       "      <td>27.219999</td>\n",
       "      <td>6105900.0</td>\n",
       "      <td>27.119778</td>\n",
       "      <td>54.400002</td>\n",
       "      <td>53.880001</td>\n",
       "      <td>54.330002</td>\n",
       "      <td>54.290001</td>\n",
       "      <td>...</td>\n",
       "      <td>87.410004</td>\n",
       "      <td>86.769997</td>\n",
       "      <td>2581300</td>\n",
       "      <td>86.769997</td>\n",
       "      <td>40.380001</td>\n",
       "      <td>39.220001</td>\n",
       "      <td>40.220001</td>\n",
       "      <td>39.500000</td>\n",
       "      <td>866700</td>\n",
       "      <td>39.500000</td>\n",
       "    </tr>\n",
       "    <tr>\n",
       "      <th>2020-01-08</th>\n",
       "      <td>28.090000</td>\n",
       "      <td>27.070000</td>\n",
       "      <td>27.100000</td>\n",
       "      <td>27.840000</td>\n",
       "      <td>10496800.0</td>\n",
       "      <td>27.737495</td>\n",
       "      <td>54.660000</td>\n",
       "      <td>53.639999</td>\n",
       "      <td>53.680000</td>\n",
       "      <td>54.369999</td>\n",
       "      <td>...</td>\n",
       "      <td>86.900002</td>\n",
       "      <td>87.300003</td>\n",
       "      <td>4152500</td>\n",
       "      <td>87.300003</td>\n",
       "      <td>40.540001</td>\n",
       "      <td>39.009998</td>\n",
       "      <td>39.119999</td>\n",
       "      <td>39.939999</td>\n",
       "      <td>1193700</td>\n",
       "      <td>39.939999</td>\n",
       "    </tr>\n",
       "  </tbody>\n",
       "</table>\n",
       "<p>5 rows × 30 columns</p>\n",
       "</div>"
      ],
      "text/plain": [
       "Consumer Ticker        AAL                                               \\\n",
       "Stock Info            High        Low       Open      Close      Volume   \n",
       "Date                                                                      \n",
       "2020-01-02       29.299999  28.650000  28.980000  29.090000   6451100.0   \n",
       "2020-01-03       28.290001  27.340000  28.270000  27.650000  14008900.0   \n",
       "2020-01-06       27.490000  27.080000  27.190001  27.320000   6105800.0   \n",
       "2020-01-07       27.680000  27.059999  27.559999  27.219999   6105900.0   \n",
       "2020-01-08       28.090000  27.070000  27.100000  27.840000  10496800.0   \n",
       "\n",
       "Consumer Ticker                   LUV                                   ...  \\\n",
       "Stock Info       Adj Close       High        Low       Open      Close  ...   \n",
       "Date                                                                    ...   \n",
       "2020-01-02       28.982893  54.869999  54.290001  54.380001  54.840000  ...   \n",
       "2020-01-03       27.548195  54.419998  53.040001  53.599998  54.349998  ...   \n",
       "2020-01-06       27.219410  54.560001  53.480000  53.689999  54.130001  ...   \n",
       "2020-01-07       27.119778  54.400002  53.880001  54.330002  54.290001  ...   \n",
       "2020-01-08       27.737495  54.660000  53.639999  53.680000  54.369999  ...   \n",
       "\n",
       "Consumer Ticker        UAL                                      SAVE  \\\n",
       "Stock Info            Open      Close   Volume  Adj Close       High   \n",
       "Date                                                                   \n",
       "2020-01-02       89.570000  89.739998  2769800  89.739998  40.930000   \n",
       "2020-01-03       86.800003  87.900002  3562900  87.900002  39.930000   \n",
       "2020-01-06       86.720001  87.699997  2652700  87.699997  40.540001   \n",
       "2020-01-07       87.410004  86.769997  2581300  86.769997  40.380001   \n",
       "2020-01-08       86.900002  87.300003  4152500  87.300003  40.540001   \n",
       "\n",
       "Consumer Ticker                                                       \n",
       "Stock Info             Low       Open      Close   Volume  Adj Close  \n",
       "Date                                                                  \n",
       "2020-01-02       40.099998  40.700001  40.650002  1027400  40.650002  \n",
       "2020-01-03       38.330002  39.660000  39.820000  1327700  39.820000  \n",
       "2020-01-06       39.049999  39.299999  40.389999  1003500  40.389999  \n",
       "2020-01-07       39.220001  40.220001  39.500000   866700  39.500000  \n",
       "2020-01-08       39.009998  39.119999  39.939999  1193700  39.939999  \n",
       "\n",
       "[5 rows x 30 columns]"
      ]
     },
     "execution_count": 9,
     "metadata": {},
     "output_type": "execute_result"
    }
   ],
   "source": [
    "consumer_stock.head()"
   ]
  },
  {
   "cell_type": "code",
   "execution_count": 10,
   "metadata": {},
   "outputs": [],
   "source": [
    "consumer_stock.to_csv('consumer_stock.csv')"
   ]
  },
  {
   "cell_type": "markdown",
   "metadata": {},
   "source": [
    "# Exploratory Data Analysis"
   ]
  },
  {
   "cell_type": "code",
   "execution_count": 11,
   "metadata": {},
   "outputs": [],
   "source": [
    "import matplotlib.pyplot as plt\n",
    "import seaborn as sns\n",
    "sns.set_style('whitegrid')\n",
    "%matplotlib inline\n"
   ]
  },
  {
   "cell_type": "code",
   "execution_count": 12,
   "metadata": {},
   "outputs": [
    {
     "data": {
      "text/plain": [
       "<matplotlib.legend.Legend at 0x1fdc1e79fa0>"
      ]
     },
     "execution_count": 12,
     "metadata": {},
     "output_type": "execute_result"
    },
    {
     "data": {
      "image/png": "[encoded data removed]",
      "text/plain": [
       "<Figure size 864x360 with 1 Axes>"
      ]
     },
     "metadata": {
      "needs_background": "light"
     },
     "output_type": "display_data"
    }
   ],
   "source": [
    "for tick in tickers:\n",
    "    consumer_stock[tick]['Adj Close'].plot(label = tick, figsize = (12,5))\n",
    "plt.legend()"
   ]
  },
  {
   "cell_type": "code",
   "execution_count": 13,
   "metadata": {},
   "outputs": [
    {
     "ename": "NameError",
     "evalue": "name 'consumer_stocks' is not defined",
     "output_type": "error",
     "traceback": [
      "\u001b[1;31m---------------------------------------------------------------------------\u001b[0m",
      "\u001b[1;31mNameError\u001b[0m                                 Traceback (most recent call last)",
      "\u001b[1;32m<ipython-input-13-033ccb772340>\u001b[0m in \u001b[0;36m<module>\u001b[1;34m\u001b[0m\n\u001b[0;32m      1\u001b[0m \u001b[1;32mfor\u001b[0m \u001b[0mtick\u001b[0m \u001b[1;32min\u001b[0m \u001b[0mtickers\u001b[0m\u001b[1;33m:\u001b[0m\u001b[1;33m\u001b[0m\u001b[1;33m\u001b[0m\u001b[0m\n\u001b[1;32m----> 2\u001b[1;33m     \u001b[0mconsumer_stocks\u001b[0m\u001b[1;33m[\u001b[0m\u001b[0mtick\u001b[0m\u001b[1;33m]\u001b[0m\u001b[1;33m[\u001b[0m\u001b[1;34m'Volume'\u001b[0m\u001b[1;33m]\u001b[0m\u001b[1;33m.\u001b[0m\u001b[0mplot\u001b[0m\u001b[1;33m(\u001b[0m\u001b[0mlabel\u001b[0m \u001b[1;33m=\u001b[0m \u001b[0mtick\u001b[0m\u001b[1;33m,\u001b[0m \u001b[0mfigsize\u001b[0m \u001b[1;33m=\u001b[0m \u001b[1;33m(\u001b[0m\u001b[1;36m12\u001b[0m\u001b[1;33m,\u001b[0m\u001b[1;36m4\u001b[0m\u001b[1;33m)\u001b[0m\u001b[1;33m)\u001b[0m\u001b[1;33m\u001b[0m\u001b[1;33m\u001b[0m\u001b[0m\n\u001b[0m\u001b[0;32m      3\u001b[0m \u001b[0mplt\u001b[0m\u001b[1;33m.\u001b[0m\u001b[0mlegend\u001b[0m\u001b[1;33m(\u001b[0m\u001b[1;33m)\u001b[0m\u001b[1;33m\u001b[0m\u001b[1;33m\u001b[0m\u001b[0m\n",
      "\u001b[1;31mNameError\u001b[0m: name 'consumer_stocks' is not defined"
     ]
    }
   ],
   "source": [
    "for tick in tickers:\n",
    "    consumer_stocks[tick]['Volume'].plot(label = tick, figsize = (12,4))\n",
    "plt.legend()"
   ]
  },
  {
   "cell_type": "code",
   "execution_count": null,
   "metadata": {},
   "outputs": [],
   "source": [
    "\n",
    "# Create heatmap\n",
    "sns.heatmap(consumer_stock.xs(key = 'Close', axis = 1, level = 'Stock Info').corr(),annot = True,lw = 1)"
   ]
  },
  {
   "cell_type": "code",
   "execution_count": null,
   "metadata": {},
   "outputs": [],
   "source": [
    "\n",
    "# Create cluter map\n",
    "sns.clustermap(consumer_stock.xs(key = 'Close', axis = 1, level = 'Stock Info').corr(), annot = True, lw = 1)"
   ]
  },
  {
   "cell_type": "code",
   "execution_count": null,
   "metadata": {},
   "outputs": [],
   "source": []
  }
 ],
 "metadata": {
  "kernelspec": {
   "display_name": "Python 3",
   "language": "python",
   "name": "python3"
  },
  "language_info": {
   "codemirror_mode": {
    "name": "ipython",
    "version": 3
   },
   "file_extension": ".py",
   "mimetype": "text/x-python",
   "name": "python",
   "nbconvert_exporter": "python",
   "pygments_lexer": "ipython3",
   "version": "3.8.5"
  }
 },
 "nbformat": 4,
 "nbformat_minor": 4
}
