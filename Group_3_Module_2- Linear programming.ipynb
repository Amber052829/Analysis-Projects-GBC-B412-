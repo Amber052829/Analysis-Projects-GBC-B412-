{
 "cells": [
  {
   "cell_type": "markdown",
   "metadata": {},
   "source": [
    "# Module 2 : Case Study - Linear Programming"
   ]
  },
  {
   "cell_type": "markdown",
   "metadata": {},
   "source": [
    "Prepared by : Group 3\n",
    "\n",
    "Sule Isik,\n",
    "Alizae Pardiwala,\n",
    "Norris Fernandes, \n",
    "Dawson Swain,\n",
    "Taher Rajkotwala,\n",
    "Amber Sethi"
   ]
  },
  {
   "cell_type": "markdown",
   "metadata": {},
   "source": [
    "**Chapter 2 - Problem 28**"
   ]
  },
  {
   "cell_type": "code",
   "execution_count": 1,
   "metadata": {},
   "outputs": [
    {
     "name": "stdout",
     "output_type": "stream",
     "text": [
      "Collecting pulp\n",
      "  Downloading PuLP-2.4-py3-none-any.whl (40.6 MB)\n",
      "\u001b[K     |████████████████████████████████| 40.6 MB 10.5 MB/s eta 0:00:01\n",
      "\u001b[?25hCollecting amply>=0.1.2\n",
      "  Downloading amply-0.1.4-py3-none-any.whl (16 kB)\n",
      "Requirement already satisfied: docutils>=0.3 in /Users/amber052829/opt/anaconda3/lib/python3.8/site-packages (from amply>=0.1.2->pulp) (0.17.1)\n",
      "Requirement already satisfied: pyparsing in /Users/amber052829/opt/anaconda3/lib/python3.8/site-packages (from amply>=0.1.2->pulp) (2.4.7)\n",
      "Installing collected packages: amply, pulp\n",
      "Successfully installed amply-0.1.4 pulp-2.4\n",
      "Note: you may need to restart the kernel to use updated packages.\n"
     ]
    }
   ],
   "source": [
    "pip install pulp"
   ]
  },
  {
   "cell_type": "code",
   "execution_count": 2,
   "metadata": {},
   "outputs": [],
   "source": [
    "# import functions from pulp library\n",
    "\n",
    "from pulp import LpMaximize,LpMinimize, LpProblem, LpStatus, lpSum, LpVariable"
   ]
  },
  {
   "cell_type": "code",
   "execution_count": 3,
   "metadata": {},
   "outputs": [],
   "source": [
    "# create the model to find the maximum solution\n",
    "\n",
    "model = LpProblem(name=\"Chapter_2-Problem_28\", sense=LpMaximize)"
   ]
  },
  {
   "cell_type": "code",
   "execution_count": 4,
   "metadata": {},
   "outputs": [],
   "source": [
    "# initialize the decision variables and set the low bounds to 0\n",
    "\n",
    "x1 = LpVariable(name=\"x1\", lowBound=0)\n",
    "x2 = LpVariable(name=\"x2\", lowBound=0)"
   ]
  },
  {
   "cell_type": "code",
   "execution_count": 5,
   "metadata": {},
   "outputs": [],
   "source": [
    "# add the objective function to the model ( Z = 3x1 + 2x2)\n",
    "\n",
    "model += lpSum([ 3 * x1, 2 * x2])"
   ]
  },
  {
   "cell_type": "code",
   "execution_count": 6,
   "metadata": {},
   "outputs": [],
   "source": [
    "# add the constraints to the model\n",
    "\n",
    "model += (2 * x1 + 4 * x2 <= 22 )\n",
    "model += (-1 * x1 + 4 * x2 <= 10 )\n",
    "model += (4 * x1 - 2 * x2 <= 14 )\n",
    "model += (1 * x1 - 3 * x2 <= 1 )"
   ]
  },
  {
   "cell_type": "code",
   "execution_count": 7,
   "metadata": {},
   "outputs": [
    {
     "data": {
      "text/plain": [
       "Chapter_2-Problem_28:\n",
       "MAXIMIZE\n",
       "3*x1 + 2*x2 + 0\n",
       "SUBJECT TO\n",
       "_C1: 2 x1 + 4 x2 <= 22\n",
       "\n",
       "_C2: - x1 + 4 x2 <= 10\n",
       "\n",
       "_C3: 4 x1 - 2 x2 <= 14\n",
       "\n",
       "_C4: x1 - 3 x2 <= 1\n",
       "\n",
       "VARIABLES\n",
       "x1 Continuous\n",
       "x2 Continuous"
      ]
     },
     "execution_count": 7,
     "metadata": {},
     "output_type": "execute_result"
    }
   ],
   "source": [
    "# show the model\n",
    "\n",
    "model"
   ]
  },
  {
   "cell_type": "code",
   "execution_count": 8,
   "metadata": {},
   "outputs": [],
   "source": [
    "# solve the problem\n",
    "\n",
    "status = model.solve()"
   ]
  },
  {
   "cell_type": "code",
   "execution_count": 9,
   "metadata": {},
   "outputs": [
    {
     "name": "stdout",
     "output_type": "stream",
     "text": [
      "status: 1, Optimal\n"
     ]
    }
   ],
   "source": [
    "# check the status of the solver\n",
    "\n",
    "print(f\"status: {model.status}, {LpStatus[model.status]}\")"
   ]
  },
  {
   "cell_type": "code",
   "execution_count": 10,
   "metadata": {},
   "outputs": [
    {
     "name": "stdout",
     "output_type": "stream",
     "text": [
      "objective: 21.0\n"
     ]
    }
   ],
   "source": [
    "# view the maximum value of the objective function\n",
    "\n",
    "print(f\"objective: {model.objective.value()}\")"
   ]
  },
  {
   "cell_type": "code",
   "execution_count": 11,
   "metadata": {},
   "outputs": [
    {
     "name": "stdout",
     "output_type": "stream",
     "text": [
      "x1: 5.0\n",
      "x2: 3.0\n"
     ]
    }
   ],
   "source": [
    "# view the values of our variables x1 and x2\n",
    "\n",
    "for var in model.variables():\n",
    "  print(f\"{var.name}: {var.value()}\")"
   ]
  },
  {
   "cell_type": "code",
   "execution_count": 12,
   "metadata": {},
   "outputs": [
    {
     "name": "stdout",
     "output_type": "stream",
     "text": [
      "_C1: 0.0\n",
      "_C2: -3.0\n",
      "_C3: 0.0\n",
      "_C4: -5.0\n"
     ]
    }
   ],
   "source": [
    "# view the the values of the slack variables\n",
    "\n",
    "for name, constraint in model.constraints.items():\n",
    " print(f\"{name}: {constraint.value()}\")"
   ]
  },
  {
   "cell_type": "markdown",
   "metadata": {},
   "source": [
    "**Chapter 3 - Problem 28**"
   ]
  },
  {
   "cell_type": "code",
   "execution_count": 13,
   "metadata": {},
   "outputs": [],
   "source": [
    "# create the model to find maximum solution\n",
    "\n",
    "model = LpProblem(name=\"Chapter_3-Problem_28\", sense=LpMaximize)"
   ]
  },
  {
   "cell_type": "code",
   "execution_count": 14,
   "metadata": {},
   "outputs": [],
   "source": [
    "# initialize the decision variables\n",
    "# set low bound to 0 and up bound to 150 for x1, set low bound to 0 and up bound to 110 for x2\n",
    "\n",
    "x1 = LpVariable(name=\"x1\", lowBound=0, upBound=150)\n",
    "x2 = LpVariable(name=\"x2\", lowBound=0, upBound=110)"
   ]
  },
  {
   "cell_type": "code",
   "execution_count": 15,
   "metadata": {},
   "outputs": [],
   "source": [
    "# add the objective function ( Z = 8.65x1 + 10.95x2 )\n",
    "\n",
    "model += lpSum([ 8.65 * x1, 10.95 * x2])"
   ]
  },
  {
   "cell_type": "code",
   "execution_count": 16,
   "metadata": {},
   "outputs": [],
   "source": [
    "# add the constraints to the model\n",
    "\n",
    "model += (x1 + x2 <= 250 )\n",
    "model += (x1 + x2 >= 120 )\n",
    "model += (x1 - 2 * x2 <= 0 )\n",
    "model += (x1 - 1.2 * x2 >= 0 )"
   ]
  },
  {
   "cell_type": "code",
   "execution_count": 17,
   "metadata": {},
   "outputs": [
    {
     "data": {
      "text/plain": [
       "Chapter_3-Problem_28:\n",
       "MAXIMIZE\n",
       "8.65*x1 + 10.95*x2 + 0.0\n",
       "SUBJECT TO\n",
       "_C1: x1 + x2 <= 250\n",
       "\n",
       "_C2: x1 + x2 >= 120\n",
       "\n",
       "_C3: x1 - 2 x2 <= 0\n",
       "\n",
       "_C4: x1 - 1.2 x2 >= 0\n",
       "\n",
       "VARIABLES\n",
       "x1 <= 150 Continuous\n",
       "x2 <= 110 Continuous"
      ]
     },
     "execution_count": 17,
     "metadata": {},
     "output_type": "execute_result"
    }
   ],
   "source": [
    "# show the model\n",
    "\n",
    "model"
   ]
  },
  {
   "cell_type": "code",
   "execution_count": 18,
   "metadata": {},
   "outputs": [],
   "source": [
    "# solve the problem\n",
    "\n",
    "status = model.solve()"
   ]
  },
  {
   "cell_type": "code",
   "execution_count": 19,
   "metadata": {},
   "outputs": [
    {
     "name": "stdout",
     "output_type": "stream",
     "text": [
      "status: 1, Optimal\n"
     ]
    }
   ],
   "source": [
    "# check the status of the solver\n",
    "\n",
    "print(f\"status: {model.status}, {LpStatus[model.status]}\")"
   ]
  },
  {
   "cell_type": "code",
   "execution_count": 20,
   "metadata": {},
   "outputs": [
    {
     "name": "stdout",
     "output_type": "stream",
     "text": [
      "objective: 2415.5\n"
     ]
    }
   ],
   "source": [
    "# view the maximum value of the objective function\n",
    "\n",
    "print(f\"objective: {model.objective.value()}\")"
   ]
  },
  {
   "cell_type": "code",
   "execution_count": 21,
   "metadata": {},
   "outputs": [
    {
     "name": "stdout",
     "output_type": "stream",
     "text": [
      "x1: 140.0\n",
      "x2: 110.0\n"
     ]
    }
   ],
   "source": [
    "# view the values of our variables x1 and x2\n",
    "\n",
    "for var in model.variables():\n",
    "  print(f\"{var.name}: {var.value()}\")"
   ]
  },
  {
   "cell_type": "code",
   "execution_count": 22,
   "metadata": {},
   "outputs": [
    {
     "name": "stdout",
     "output_type": "stream",
     "text": [
      "_C1: 0.0\n",
      "_C2: 130.0\n",
      "_C3: -80.0\n",
      "_C4: 8.0\n"
     ]
    }
   ],
   "source": [
    "# view the the values of the constraints\n",
    "\n",
    "for name, constraint in model.constraints.items():\n",
    " print(f\"{name}: {constraint.value()}\")"
   ]
  },
  {
   "cell_type": "markdown",
   "metadata": {},
   "source": [
    "**Chapter 4 - Problem 10**"
   ]
  },
  {
   "cell_type": "code",
   "execution_count": 23,
   "metadata": {},
   "outputs": [],
   "source": [
    "# create the model to find the minimum solution\n",
    "\n",
    "model = LpProblem(name=\"Chapter_4-Problem_10\", sense=LpMinimize)"
   ]
  },
  {
   "cell_type": "code",
   "execution_count": 24,
   "metadata": {},
   "outputs": [],
   "source": [
    "# initialize the decision variables\n",
    "# model decision variables using the LpVariable class and set the low bound to 0 for all variables\n",
    "\n",
    "x1 = LpVariable(name=\"x1\", lowBound=0)\n",
    "x2 = LpVariable(name=\"x2\", lowBound=0)\n",
    "x3 = LpVariable(name=\"x3\", lowBound=0)\n",
    "x4 = LpVariable(name=\"x4\", lowBound=0)\n",
    "x5 = LpVariable(name=\"x5\", lowBound=0)\n",
    "x6 = LpVariable(name=\"x6\", lowBound=0)"
   ]
  },
  {
   "cell_type": "code",
   "execution_count": 25,
   "metadata": {},
   "outputs": [],
   "source": [
    "# add the objective function to the model\n",
    "\n",
    "model += lpSum([ 27*x1 , 25*x2 , 32*x3 , 22*x4 , 20*x5 , 24*x6])"
   ]
  },
  {
   "cell_type": "code",
   "execution_count": 26,
   "metadata": {},
   "outputs": [],
   "source": [
    "# add the constraints to the model\n",
    "\n",
    "model += (0.19*x1 + 0.43*x2 + 0.17*x3 + 0.20*x4 + 0.12*x6 >= 0.21 )\n",
    "model += (0.15*x1 + 0.10*x2 + 0.12*x4 + 0.24*x5 + 0.18*x6 <= 0.12 )\n",
    "model += (0.12*x1 + 0.25*x2 + 0.10*x5 + 0.16*x6 <= 0.07 )\n",
    "model += (0.14*x1 + 0.07*x2 + 0.53*x3 + 0.18*x4 + 0.31*x5 + 0.25*x6 >= 0.30 )\n",
    "model += (0.14*x1 + 0.07*x2 + 0.53*x3 + 0.18*x4 + 0.31*x5 + 0.25*x6 <= 0.65 )\n",
    "model += (0.60*x1 + 0.85*x2 + 0.70*x3 + 0.50*x4 + 0.65*x5 + 0.71*x6 == 1 )"
   ]
  },
  {
   "cell_type": "code",
   "execution_count": 27,
   "metadata": {},
   "outputs": [
    {
     "data": {
      "text/plain": [
       "Chapter_4-Problem_10:\n",
       "MINIMIZE\n",
       "27*x1 + 25*x2 + 32*x3 + 22*x4 + 20*x5 + 24*x6 + 0\n",
       "SUBJECT TO\n",
       "_C1: 0.19 x1 + 0.43 x2 + 0.17 x3 + 0.2 x4 + 0.12 x6 >= 0.21\n",
       "\n",
       "_C2: 0.15 x1 + 0.1 x2 + 0.12 x4 + 0.24 x5 + 0.18 x6 <= 0.12\n",
       "\n",
       "_C3: 0.12 x1 + 0.25 x2 + 0.1 x5 + 0.16 x6 <= 0.07\n",
       "\n",
       "_C4: 0.14 x1 + 0.07 x2 + 0.53 x3 + 0.18 x4 + 0.31 x5 + 0.25 x6 >= 0.3\n",
       "\n",
       "_C5: 0.14 x1 + 0.07 x2 + 0.53 x3 + 0.18 x4 + 0.31 x5 + 0.25 x6 <= 0.65\n",
       "\n",
       "_C6: 0.6 x1 + 0.85 x2 + 0.7 x3 + 0.5 x4 + 0.65 x5 + 0.71 x6 = 1\n",
       "\n",
       "VARIABLES\n",
       "x1 Continuous\n",
       "x2 Continuous\n",
       "x3 Continuous\n",
       "x4 Continuous\n",
       "x5 Continuous\n",
       "x6 Continuous"
      ]
     },
     "execution_count": 27,
     "metadata": {},
     "output_type": "execute_result"
    }
   ],
   "source": [
    "# check the model\n",
    "\n",
    "model"
   ]
  },
  {
   "cell_type": "code",
   "execution_count": 28,
   "metadata": {},
   "outputs": [],
   "source": [
    "# solve the problem\n",
    "\n",
    "status = model.solve()"
   ]
  },
  {
   "cell_type": "code",
   "execution_count": 29,
   "metadata": {},
   "outputs": [
    {
     "name": "stdout",
     "output_type": "stream",
     "text": [
      "status: 1, Optimal\n"
     ]
    }
   ],
   "source": [
    "# check the status of the problem\n",
    "\n",
    "print(f\"status: {model.status}, {LpStatus[model.status]}\")"
   ]
  },
  {
   "cell_type": "code",
   "execution_count": 30,
   "metadata": {},
   "outputs": [
    {
     "name": "stdout",
     "output_type": "stream",
     "text": [
      "objective: 40.0481\n"
     ]
    }
   ],
   "source": [
    "# view the minimum value of the objective function\n",
    "print(f\"objective: {round(model.objective.value(),4)}\")"
   ]
  },
  {
   "cell_type": "code",
   "execution_count": 31,
   "metadata": {},
   "outputs": [
    {
     "name": "stdout",
     "output_type": "stream",
     "text": [
      "x1: 0.0\n",
      "x2: 0.1153\n",
      "x3: 0.8487\n",
      "x4: 0.0806\n",
      "x5: 0.4116\n",
      "x6: 0.0\n"
     ]
    }
   ],
   "source": [
    "# view the values of our variables\n",
    "\n",
    "for var in model.variables():\n",
    "  print(f\"{var.name}: {round(var.value(),4)}\")"
   ]
  },
  {
   "cell_type": "code",
   "execution_count": 32,
   "metadata": {},
   "outputs": [
    {
     "name": "stdout",
     "output_type": "stream",
     "text": [
      "_C1: (2.2000000085564686e-09,)\n",
      "_C2: (-7.200000040619159e-10,)\n",
      "_C3: (4.999999927979282e-10,)\n",
      "_C4: (0.30000000102,)\n",
      "_C5: (-0.04999999898000004,)\n",
      "_C6: (2.999999970665357e-09,)\n"
     ]
    }
   ],
   "source": [
    "# view the values of constraints\n",
    "\n",
    "for name, constraint in model.constraints.items():\n",
    " print(f\"{name}: {constraint.value(), }\")"
   ]
  },
  {
   "cell_type": "code",
   "execution_count": null,
   "metadata": {},
   "outputs": [],
   "source": []
  }
 ],
 "metadata": {
  "kernelspec": {
   "display_name": "Python 3",
   "language": "python",
   "name": "python3"
  },
  "language_info": {
   "codemirror_mode": {
    "name": "ipython",
    "version": 3
   },
   "file_extension": ".py",
   "mimetype": "text/x-python",
   "name": "python",
   "nbconvert_exporter": "python",
   "pygments_lexer": "ipython3",
   "version": "3.8.10"
  }
 },
 "nbformat": 4,
 "nbformat_minor": 4
}
